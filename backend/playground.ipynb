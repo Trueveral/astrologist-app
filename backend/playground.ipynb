{
 "cells": [
  {
   "cell_type": "code",
   "execution_count": 1,
   "metadata": {},
   "outputs": [
    {
     "name": "stdout",
     "output_type": "stream",
     "text": [
      "<08:00:00>\n"
     ]
    }
   ],
   "source": [
    "\"\"\"\n",
    "    Author: João Ventura <flatangleweb@gmail.com>\n",
    "    \n",
    "    \n",
    "    This recipe shows sample code for computing \n",
    "    the almutem protocol.\n",
    "\n",
    "\"\"\"\n",
    "\n",
    "from flatlib import const\n",
    "from flatlib.chart import Chart\n",
    "from flatlib.datetime import Datetime\n",
    "from flatlib.geopos import GeoPos\n",
    "from flatlib.protocols import almutem\n",
    "\n",
    "# Build a chart for a date and location\n",
    "date = Datetime('1999/11/19', '15:45', '+08:00')\n",
    "pos = GeoPos('26n35', '106e42')\n",
    "chart = Chart(date, pos)\n",
    "\n",
    "# Print almutem scores\n",
    "alm = almutem.compute(chart)\n",
    "print(chart.date.utcoffset)"
   ]
  },
  {
   "cell_type": "code",
   "execution_count": 16,
   "metadata": {},
   "outputs": [
    {
     "name": "stdout",
     "output_type": "stream",
     "text": [
      "<Saturn Taurus +17:09:52 -00:00:27>\n",
      "0\n",
      "0\n"
     ]
    }
   ],
   "source": [
    "from flatlib import const\n",
    "from flatlib.chart import Chart\n",
    "from flatlib.datetime import Datetime\n",
    "from flatlib.geopos import GeoPos\n",
    "from flatlib.dignities import essential\n",
    "\n",
    "# Build a chart for a date and location\n",
    "date = Datetime('1999/09/03', '17:00', '+08:00')\n",
    "pos = GeoPos('26n35', '106e42')\n",
    "chart = Chart(date, pos)\n",
    "\n",
    "# Get the Asc ruler\n",
    "asc = chart.get(const.ASC)\n",
    "ascRulerID = essential.ruler(asc.sign)\n",
    "ascRuler = chart.get(ascRulerID)\n",
    "print(ascRuler)  # <Mercury Pisces +00:48:57 +01:29:49>\n",
    "\n",
    "# Get the Asc ruler score\n",
    "score = essential.score(ascRuler.id, ascRuler.sign, ascRuler.signlon)\n",
    "print(score)\n",
    "\n",
    "# Simpler alternative using the EssentialInfo class\n",
    "info = essential.EssentialInfo(ascRuler)\n",
    "print(info.score)"
   ]
  },
  {
   "cell_type": "code",
   "execution_count": 14,
   "metadata": {},
   "outputs": [
    {
     "data": {
      "text/plain": [
       "\"['26N35:00', '106E42:00']\""
      ]
     },
     "execution_count": 14,
     "metadata": {},
     "output_type": "execute_result"
    }
   ],
   "source": [
    "\"\"\"\n",
    "    Author: João Ventura <flatangleweb@gmail.com>\n",
    "    \n",
    "    \n",
    "    This recipe shows sample code for handling \n",
    "    aspects.\n",
    "\n",
    "\"\"\"\n",
    "\n",
    "from flatlib import aspects\n",
    "from flatlib import const\n",
    "from flatlib.chart import Chart\n",
    "from flatlib.datetime import Datetime\n",
    "from flatlib.geopos import GeoPos\n",
    "\n",
    "\n",
    "# Build a chart for a date and location\n",
    "date = Datetime('1999/11/19', '15:45', '+08:00')\n",
    "pos = GeoPos('26n35', '106e42')\n",
    "chart = Chart(date, pos)\n",
    "\n",
    "# Retrieve the Sun and Moon \n",
    "sun = chart.get(const.SUN)\n",
    "moon = chart.get(const.MOON)\n",
    "\n",
    "# Get the aspect\n",
    "aspect = aspects.getAspect(sun, moon, const.MAJOR_ASPECTS)\n",
    "str(chart.pos.strings())"
   ]
  }
 ],
 "metadata": {
  "kernelspec": {
   "display_name": "Python 3",
   "language": "python",
   "name": "python3"
  },
  "language_info": {
   "codemirror_mode": {
    "name": "ipython",
    "version": 3
   },
   "file_extension": ".py",
   "mimetype": "text/x-python",
   "name": "python",
   "nbconvert_exporter": "python",
   "pygments_lexer": "ipython3",
   "version": "3.11.2"
  },
  "orig_nbformat": 4
 },
 "nbformat": 4,
 "nbformat_minor": 2
}
